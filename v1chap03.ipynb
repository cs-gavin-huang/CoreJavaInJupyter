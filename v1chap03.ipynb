{
 "cells": [
  {
   "cell_type": "markdown",
   "metadata": {},
   "source": [
    "## CoreJava 第三章"
   ]
  },
  {
   "cell_type": "markdown",
   "metadata": {},
   "source": [
    "### 3.2 InputTest\n",
    "```java\n",
    "import java.util.*;\n",
    "\n",
    "/**\n",
    " * This program demonstrates console input.\n",
    " * @version 1.10 2004-02-10\n",
    " * @author Cay Horstmann\n",
    " */\n",
    "public class InputTest\n",
    "{\n",
    "   public static void main(String[] args)\n",
    "   {\n",
    "      Scanner in = new Scanner(System.in);\n",
    "\n",
    "      // get first input\n",
    "      System.out.print(\"What is your name? \");\n",
    "      String name = in.nextLine();\n",
    "\n",
    "      // get second input\n",
    "      System.out.print(\"How old are you? \");\n",
    "      int age = in.nextInt();\n",
    "\n",
    "      // display output on console\n",
    "      System.out.println(\"Hello, \" + name + \". Next year, you'll be \" + (age + 1));\n",
    "   }\n",
    "}\n",
    "```"
   ]
  },
  {
   "cell_type": "code",
   "execution_count": 7,
   "metadata": {},
   "outputs": [],
   "source": [
    "import java.util.*;\n",
    "\n",
    "/**\n",
    " * This program demonstrates console input.\n",
    " * @version 1.10 2004-02-10\n",
    " * @author Cay Horstmann\n",
    " */"
   ]
  },
  {
   "cell_type": "code",
   "execution_count": 9,
   "metadata": {},
   "outputs": [
    {
     "name": "stdout",
     "output_type": "stream",
     "text": [
      "What is your name? "
     ]
    },
    {
     "name": "stdin",
     "output_type": "stream",
     "text": [
      " you-know-who\n"
     ]
    },
    {
     "name": "stdout",
     "output_type": "stream",
     "text": [
      "How old are you? "
     ]
    },
    {
     "name": "stdin",
     "output_type": "stream",
     "text": [
      " 34\n"
     ]
    },
    {
     "name": "stdout",
     "output_type": "stream",
     "text": [
      "Hello, you-know-who. Next year, you'll be 35\n"
     ]
    }
   ],
   "source": [
    "      Scanner in = new Scanner(System.in);\n",
    "\n",
    "      // get first input\n",
    "      System.out.print(\"What is your name? \");\n",
    "      String name = in.nextLine();\n",
    "\n",
    "      // get second input\n",
    "      System.out.print(\"How old are you? \");\n",
    "      int age = in.nextInt();\n",
    "\n",
    "      // display output on console\n",
    "      System.out.println(\"Hello, \" + name + \". Next year, you'll be \" + (age + 1));"
   ]
  },
  {
   "cell_type": "markdown",
   "metadata": {},
   "source": [
    "### 3.6 BigIntegerTest\n",
    "\n",
    "```java\n",
    "import java.math.*;\n",
    "import java.util.*;\n",
    "\n",
    "/**\n",
    " * This program uses big numbers to compute the odds of winning the grand prize in a lottery.\n",
    " * @version 1.20 2004-02-10\n",
    " * @author Cay Horstmann\n",
    " */\n",
    "public class BigIntegerTest\n",
    "{\n",
    "   public static void main(String[] args)\n",
    "   {\n",
    "      Scanner in = new Scanner(System.in);\n",
    "\n",
    "      System.out.print(\"How many numbers do you need to draw? \");\n",
    "      int k = in.nextInt();\n",
    "\n",
    "      System.out.print(\"What is the highest number you can draw? \");\n",
    "      int n = in.nextInt();\n",
    "\n",
    "      /*\n",
    "       * compute binomial coefficient n*(n-1)*(n-2)*...*(n-k+1)/(1*2*3*...*k)\n",
    "       */\n",
    "\n",
    "      BigInteger lotteryOdds = BigInteger.valueOf(1);\n",
    "\n",
    "      for (int i = 1; i <= k; i++)\n",
    "         lotteryOdds = lotteryOdds.multiply(BigInteger.valueOf(n - i + 1)).divide(\n",
    "            BigInteger.valueOf(i));\n",
    "\n",
    "      System.out.println(\"Your odds are 1 in \" + lotteryOdds + \". Good luck!\");\n",
    "   }\n",
    "}\n",
    "```\n",
    "\n"
   ]
  },
  {
   "cell_type": "code",
   "execution_count": 1,
   "metadata": {},
   "outputs": [],
   "source": [
    "import java.math.*;\n",
    "import java.util.*;\n",
    "\n",
    "/**\n",
    " * This program uses big numbers to compute the odds of winning the grand prize in a lottery.\n",
    " * @version 1.20 2004-02-10\n",
    " * @author Cay Horstmann\n",
    " */\n",
    " "
   ]
  },
  {
   "cell_type": "code",
   "execution_count": 3,
   "metadata": {},
   "outputs": [
    {
     "name": "stdout",
     "output_type": "stream",
     "text": [
      "How many numbers do you need to draw? "
     ]
    },
    {
     "name": "stdin",
     "output_type": "stream",
     "text": [
      " 10\n"
     ]
    },
    {
     "name": "stdout",
     "output_type": "stream",
     "text": [
      "What is the highest number you can draw? "
     ]
    },
    {
     "name": "stdin",
     "output_type": "stream",
     "text": [
      " 100\n"
     ]
    },
    {
     "name": "stdout",
     "output_type": "stream",
     "text": [
      "Your odds are 1 in 17310309456440. Good luck!\n"
     ]
    }
   ],
   "source": [
    "\n",
    "      Scanner in = new Scanner(System.in);\n",
    "\n",
    "      System.out.print(\"How many numbers do you need to draw? \");\n",
    "      int k = in.nextInt();\n",
    "\n",
    "      System.out.print(\"What is the highest number you can draw? \");\n",
    "      int n = in.nextInt();\n",
    "\n",
    "      /*\n",
    "       * compute binomial coefficient n*(n-1)*(n-2)*...*(n-k+1)/(1*2*3*...*k)\n",
    "       */\n",
    "\n",
    "      BigInteger lotteryOdds = BigInteger.valueOf(1);\n",
    "\n",
    "      for (int i = 1; i <= k; i++)\n",
    "         lotteryOdds = lotteryOdds.multiply(BigInteger.valueOf(n - i + 1)).divide(\n",
    "            BigInteger.valueOf(i));\n",
    "\n",
    "      System.out.println(\"Your odds are 1 in \" + lotteryOdds + \". Good luck!\");\n"
   ]
  },
  {
   "cell_type": "markdown",
   "metadata": {},
   "source": [
    "### 3.8 CompoundInterest\n",
    "```java\n",
    "/**\n",
    " * This program shows how to store tabular data in a 2D array.\n",
    " * @version 1.40 2004-02-10\n",
    " * @author Cay Horstmann\n",
    " */\n",
    "public class CompoundInterest\n",
    "{\n",
    "   public static void main(String[] args)\n",
    "   {\n",
    "      final double STARTRATE = 10;\n",
    "      final int NRATES = 6;\n",
    "      final int NYEARS = 10;\n",
    "\n",
    "      // set interest rates to 10 . . . 15%\n",
    "      double[] interestRate = new double[NRATES];\n",
    "      for (int j = 0; j < interestRate.length; j++)\n",
    "         interestRate[j] = (STARTRATE + j) / 100.0;\n",
    "\n",
    "      double[][] balances = new double[NYEARS][NRATES];\n",
    "\n",
    "      // set initial balances to 10000\n",
    "      for (int j = 0; j < balances[0].length; j++)\n",
    "         balances[0][j] = 10000;\n",
    "\n",
    "      // compute interest for future years\n",
    "      for (int i = 1; i < balances.length; i++)\n",
    "      {\n",
    "         for (int j = 0; j < balances[i].length; j++)\n",
    "         {\n",
    "            // get last year's balances from previous row\n",
    "            double oldBalance = balances[i - 1][j];\n",
    "\n",
    "            // compute interest\n",
    "            double interest = oldBalance * interestRate[j];\n",
    "\n",
    "            // compute this year's balances\n",
    "            balances[i][j] = oldBalance + interest;\n",
    "         }\n",
    "      }\n",
    "\n",
    "      // print one row of interest rates\n",
    "      for (int j = 0; j < interestRate.length; j++)\n",
    "         System.out.printf(\"%9.0f%%\", 100 * interestRate[j]);\n",
    "\n",
    "      System.out.println();\n",
    "\n",
    "      // print balance table\n",
    "      for (double[] row : balances)\n",
    "      {\n",
    "         // print table row\n",
    "         for (double b : row)\n",
    "            System.out.printf(\"%10.2f\", b);\n",
    "\n",
    "         System.out.println();\n",
    "      }\n",
    "   }\n",
    "}\n",
    "```\n"
   ]
  },
  {
   "cell_type": "code",
   "execution_count": 4,
   "metadata": {},
   "outputs": [
    {
     "name": "stdout",
     "output_type": "stream",
     "text": [
      "       10%       11%       12%       13%       14%       15%\n",
      "  10000.00  10000.00  10000.00  10000.00  10000.00  10000.00\n",
      "  11000.00  11100.00  11200.00  11300.00  11400.00  11500.00\n",
      "  12100.00  12321.00  12544.00  12769.00  12996.00  13225.00\n",
      "  13310.00  13676.31  14049.28  14428.97  14815.44  15208.75\n",
      "  14641.00  15180.70  15735.19  16304.74  16889.60  17490.06\n",
      "  16105.10  16850.58  17623.42  18424.35  19254.15  20113.57\n",
      "  17715.61  18704.15  19738.23  20819.52  21949.73  23130.61\n",
      "  19487.17  20761.60  22106.81  23526.05  25022.69  26600.20\n",
      "  21435.89  23045.38  24759.63  26584.44  28525.86  30590.23\n",
      "  23579.48  25580.37  27730.79  30040.42  32519.49  35178.76\n"
     ]
    }
   ],
   "source": [
    "/**\n",
    " * This program shows how to store tabular data in a 2D array.\n",
    " * @version 1.40 2004-02-10\n",
    " * @author Cay Horstmann\n",
    " */\n",
    "      final double STARTRATE = 10;\n",
    "      final int NRATES = 6;\n",
    "      final int NYEARS = 10;\n",
    "\n",
    "      // set interest rates to 10 . . . 15%\n",
    "      double[] interestRate = new double[NRATES];\n",
    "      for (int j = 0; j < interestRate.length; j++)\n",
    "         interestRate[j] = (STARTRATE + j) / 100.0;\n",
    "\n",
    "      double[][] balances = new double[NYEARS][NRATES];\n",
    "\n",
    "      // set initial balances to 10000\n",
    "      for (int j = 0; j < balances[0].length; j++)\n",
    "         balances[0][j] = 10000;\n",
    "\n",
    "      // compute interest for future years\n",
    "      for (int i = 1; i < balances.length; i++)\n",
    "      {\n",
    "         for (int j = 0; j < balances[i].length; j++)\n",
    "         {\n",
    "            // get last year's balances from previous row\n",
    "            double oldBalance = balances[i - 1][j];\n",
    "\n",
    "            // compute interest\n",
    "            double interest = oldBalance * interestRate[j];\n",
    "\n",
    "            // compute this year's balances\n",
    "            balances[i][j] = oldBalance + interest;\n",
    "         }\n",
    "      }\n",
    "\n",
    "      // print one row of interest rates\n",
    "      for (int j = 0; j < interestRate.length; j++)\n",
    "         System.out.printf(\"%9.0f%%\", 100 * interestRate[j]);\n",
    "\n",
    "      System.out.println();\n",
    "\n",
    "      // print balance table\n",
    "      for (double[] row : balances)\n",
    "      {\n",
    "         // print table row\n",
    "         for (double b : row)\n",
    "            System.out.printf(\"%10.2f\", b);\n",
    "\n",
    "         System.out.println();\n",
    "      }\n"
   ]
  },
  {
   "cell_type": "markdown",
   "metadata": {},
   "source": [
    "### 3.9 LotteryArray\n",
    "```java\n",
    "/**\n",
    " * This program demonstrates a triangular array.\n",
    " * @version 1.20 2004-02-10\n",
    " * @author Cay Horstmann\n",
    " */\n",
    "public class LotteryArray\n",
    "{\n",
    "   public static void main(String[] args)\n",
    "   {\n",
    "      final int NMAX = 10;\n",
    "\n",
    "      // allocate triangular array\n",
    "      int[][] odds = new int[NMAX + 1][];\n",
    "      for (int n = 0; n <= NMAX; n++)\n",
    "         odds[n] = new int[n + 1];\n",
    "\n",
    "      // fill triangular array\n",
    "      for (int n = 0; n < odds.length; n++)\n",
    "         for (int k = 0; k < odds[n].length; k++)\n",
    "         {\n",
    "            /*\n",
    "             * compute binomial coefficient n*(n-1)*(n-2)*...*(n-k+1)/(1*2*3*...*k)\n",
    "             */\n",
    "            int lotteryOdds = 1;\n",
    "            for (int i = 1; i <= k; i++)\n",
    "               lotteryOdds = lotteryOdds * (n - i + 1) / i;\n",
    "\n",
    "            odds[n][k] = lotteryOdds;\n",
    "         }\n",
    "\n",
    "      // print triangular array\n",
    "      for (int[] row : odds)\n",
    "      {\n",
    "         for (int odd : row)\n",
    "            System.out.printf(\"%4d\", odd);\n",
    "         System.out.println();\n",
    "      }\n",
    "   }\n",
    "}\n",
    "```\n"
   ]
  },
  {
   "cell_type": "code",
   "execution_count": 10,
   "metadata": {},
   "outputs": [
    {
     "name": "stdout",
     "output_type": "stream",
     "text": [
      "   1\n",
      "   1   1\n",
      "   1   2   1\n",
      "   1   3   3   1\n",
      "   1   4   6   4   1\n",
      "   1   5  10  10   5   1\n",
      "   1   6  15  20  15   6   1\n",
      "   1   7  21  35  35  21   7   1\n",
      "   1   8  28  56  70  56  28   8   1\n",
      "   1   9  36  84 126 126  84  36   9   1\n",
      "   1  10  45 120 210 252 210 120  45  10   1\n"
     ]
    }
   ],
   "source": [
    "/**\n",
    " * This program demonstrates a triangular array.\n",
    " * @version 1.20 2004-02-10\n",
    " * @author Cay Horstmann\n",
    " */\n",
    "      final int NMAX = 10;\n",
    "\n",
    "      // allocate triangular array\n",
    "      int[][] odds = new int[NMAX + 1][];\n",
    "      for (int n = 0; n <= NMAX; n++)\n",
    "         odds[n] = new int[n + 1];\n",
    "\n",
    "      // fill triangular array\n",
    "      for (int n = 0; n < odds.length; n++)\n",
    "         for (int k = 0; k < odds[n].length; k++)\n",
    "         {\n",
    "            /*\n",
    "             * compute binomial coefficient n*(n-1)*(n-2)*...*(n-k+1)/(1*2*3*...*k)\n",
    "             */\n",
    "            int lotteryOdds = 1;\n",
    "            for (int i = 1; i <= k; i++)\n",
    "               lotteryOdds = lotteryOdds * (n - i + 1) / i;\n",
    "\n",
    "            odds[n][k] = lotteryOdds;\n",
    "         }\n",
    "\n",
    "      // print triangular array\n",
    "      for (int[] row : odds)\n",
    "      {\n",
    "         for (int odd : row)\n",
    "            System.out.printf(\"%4d\", odd);\n",
    "         System.out.println();\n",
    "      }\n"
   ]
  },
  {
   "cell_type": "markdown",
   "metadata": {},
   "source": [
    "### 3.7 LotteryDrawing\n",
    "```java\n",
    "import java.util.*;\n",
    "\n",
    "/**\n",
    " * This program demonstrates array manipulation.\n",
    " * @version 1.20 2004-02-10\n",
    " * @author Cay Horstmann\n",
    " */\n",
    "public class LotteryDrawing\n",
    "{\n",
    "   public static void main(String[] args)\n",
    "   {\n",
    "      Scanner in = new Scanner(System.in);\n",
    "\n",
    "      System.out.print(\"How many numbers do you need to draw? \");\n",
    "      int k = in.nextInt();\n",
    "\n",
    "      System.out.print(\"What is the highest number you can draw? \");\n",
    "      int n = in.nextInt();\n",
    "\n",
    "      // fill an array with numbers 1 2 3 . . . n\n",
    "      int[] numbers = new int[n];\n",
    "      for (int i = 0; i < numbers.length; i++)\n",
    "         numbers[i] = i + 1;\n",
    "\n",
    "      // draw k numbers and put them into a second array\n",
    "      int[] result = new int[k];\n",
    "      for (int i = 0; i < result.length; i++)\n",
    "      {\n",
    "         // make a random index between 0 and n - 1\n",
    "         int r = (int) (Math.random() * n);\n",
    "\n",
    "         // pick the element at the random location\n",
    "         result[i] = numbers[r];\n",
    "\n",
    "         // move the last element into the random location\n",
    "         numbers[r] = numbers[n - 1];\n",
    "         n--;\n",
    "      }\n",
    "\n",
    "      // print the sorted array\n",
    "      Arrays.sort(result);\n",
    "      System.out.println(\"Bet the following combination. It'll make you rich!\");\n",
    "      for (int r : result)\n",
    "         System.out.println(r);\n",
    "   }\n",
    "}\n",
    "```\n"
   ]
  },
  {
   "cell_type": "code",
   "execution_count": 11,
   "metadata": {},
   "outputs": [],
   "source": [
    "import java.util.*;\n",
    "\n",
    "/**\n",
    " * This program demonstrates array manipulation.\n",
    " * @version 1.20 2004-02-10\n",
    " * @author Cay Horstmann\n",
    " */"
   ]
  },
  {
   "cell_type": "code",
   "execution_count": 13,
   "metadata": {},
   "outputs": [
    {
     "name": "stdout",
     "output_type": "stream",
     "text": [
      "How many numbers do you need to draw? "
     ]
    },
    {
     "name": "stdin",
     "output_type": "stream",
     "text": [
      " 10\n"
     ]
    },
    {
     "name": "stdout",
     "output_type": "stream",
     "text": [
      "What is the highest number you can draw? "
     ]
    },
    {
     "name": "stdin",
     "output_type": "stream",
     "text": [
      " 210\n"
     ]
    },
    {
     "name": "stdout",
     "output_type": "stream",
     "text": [
      "Bet the following combination. It'll make you rich!\n",
      "11\n",
      "106\n",
      "117\n",
      "127\n",
      "130\n",
      "136\n",
      "139\n",
      "144\n",
      "177\n",
      "185\n"
     ]
    }
   ],
   "source": [
    "\n",
    "      Scanner in = new Scanner(System.in);\n",
    "\n",
    "      System.out.print(\"How many numbers do you need to draw? \");\n",
    "      int k = in.nextInt();\n",
    "\n",
    "      System.out.print(\"What is the highest number you can draw? \");\n",
    "      int n = in.nextInt();\n",
    "\n",
    "      // fill an array with numbers 1 2 3 . . . n\n",
    "      int[] numbers = new int[n];\n",
    "      for (int i = 0; i < numbers.length; i++)\n",
    "         numbers[i] = i + 1;\n",
    "\n",
    "      // draw k numbers and put them into a second array\n",
    "      int[] result = new int[k];\n",
    "      for (int i = 0; i < result.length; i++)\n",
    "      {\n",
    "         // make a random index between 0 and n - 1\n",
    "         int r = (int) (Math.random() * n);\n",
    "\n",
    "         // pick the element at the random location\n",
    "         result[i] = numbers[r];\n",
    "\n",
    "         // move the last element into the random location\n",
    "         numbers[r] = numbers[n - 1];\n",
    "         n--;\n",
    "      }\n",
    "\n",
    "      // print the sorted array\n",
    "      Arrays.sort(result);\n",
    "      System.out.println(\"Bet the following combination. It'll make you rich!\");\n",
    "      for (int r : result)\n",
    "         System.out.println(r);\n"
   ]
  },
  {
   "cell_type": "markdown",
   "metadata": {},
   "source": [
    "### 3.9 LotteryArray\n",
    "```java\n",
    "import java.util.*;\n",
    "\n",
    "/**\n",
    " * This program demonstrates a <code>for</code> loop.\n",
    " * @version 1.20 2004-02-10\n",
    " * @author Cay Horstmann\n",
    " */\n",
    "public class LotteryOdds\n",
    "{\n",
    "   public static void main(String[] args)\n",
    "   {\n",
    "      Scanner in = new Scanner(System.in);\n",
    "\n",
    "      System.out.print(\"How many numbers do you need to draw? \");\n",
    "      int k = in.nextInt();\n",
    "\n",
    "      System.out.print(\"What is the highest number you can draw? \");\n",
    "      int n = in.nextInt();\n",
    "\n",
    "      /*\n",
    "       * compute binomial coefficient n*(n-1)*(n-2)*...*(n-k+1)/(1*2*3*...*k)\n",
    "       */\n",
    "\n",
    "      int lotteryOdds = 1;\n",
    "      for (int i = 1; i <= k; i++)\n",
    "         lotteryOdds = lotteryOdds * (n - i + 1) / i;\n",
    "\n",
    "      System.out.println(\"Your odds are 1 in \" + lotteryOdds + \". Good luck!\");\n",
    "   }\n",
    "}\n",
    "```"
   ]
  },
  {
   "cell_type": "code",
   "execution_count": 14,
   "metadata": {},
   "outputs": [],
   "source": [
    "import java.util.*;\n",
    "\n",
    "/**\n",
    " * This program demonstrates a <code>for</code> loop.\n",
    " * @version 1.20 2004-02-10\n",
    " * @author Cay Horstmann\n",
    " */"
   ]
  },
  {
   "cell_type": "code",
   "execution_count": 15,
   "metadata": {},
   "outputs": [
    {
     "name": "stdout",
     "output_type": "stream",
     "text": [
      "How many numbers do you need to draw? "
     ]
    },
    {
     "name": "stdin",
     "output_type": "stream",
     "text": [
      " 12\n"
     ]
    },
    {
     "name": "stdout",
     "output_type": "stream",
     "text": [
      "What is the highest number you can draw? "
     ]
    },
    {
     "name": "stdin",
     "output_type": "stream",
     "text": [
      " 213\n"
     ]
    },
    {
     "name": "stdout",
     "output_type": "stream",
     "text": [
      "Your odds are 1 in 98051389. Good luck!\n"
     ]
    }
   ],
   "source": [
    "\n",
    "      Scanner in = new Scanner(System.in);\n",
    "\n",
    "      System.out.print(\"How many numbers do you need to draw? \");\n",
    "      int k = in.nextInt();\n",
    "\n",
    "      System.out.print(\"What is the highest number you can draw? \");\n",
    "      int n = in.nextInt();\n",
    "\n",
    "      /*\n",
    "       * compute binomial coefficient n*(n-1)*(n-2)*...*(n-k+1)/(1*2*3*...*k)\n",
    "       */\n",
    "\n",
    "      int lotteryOdds = 1;\n",
    "      for (int i = 1; i <= k; i++)\n",
    "         lotteryOdds = lotteryOdds * (n - i + 1) / i;\n",
    "\n",
    "      System.out.println(\"Your odds are 1 in \" + lotteryOdds + \". Good luck!\");\n"
   ]
  },
  {
   "cell_type": "markdown",
   "metadata": {},
   "source": [
    "### 3.3 Retirement\n",
    "```java\n",
    "import java.util.*;\n",
    "\n",
    "/**\n",
    " * This program demonstrates a <code>while</code> loop.\n",
    " * @version 1.20 2004-02-10\n",
    " * @author Cay Horstmann\n",
    " */\n",
    "public class Retirement\n",
    "{\n",
    "   public static void main(String[] args)\n",
    "   {\n",
    "      // read inputs\n",
    "      Scanner in = new Scanner(System.in);\n",
    "\n",
    "      System.out.print(\"How much money do you need to retire? \");\n",
    "      double goal = in.nextDouble();\n",
    "\n",
    "      System.out.print(\"How much money will you contribute every year? \");\n",
    "      double payment = in.nextDouble();\n",
    "\n",
    "      System.out.print(\"Interest rate in %: \");\n",
    "      double interestRate = in.nextDouble();\n",
    "\n",
    "      double balance = 0;\n",
    "      int years = 0;\n",
    "\n",
    "      // update account balance while goal isn't reached\n",
    "      while (balance < goal)\n",
    "      {\n",
    "         // add this year's payment and interest\n",
    "         balance += payment;\n",
    "         double interest = balance * interestRate / 100;\n",
    "         balance += interest;\n",
    "         years++;\n",
    "      }\n",
    "\n",
    "      System.out.println(\"You can retire in \" + years + \" years.\");\n",
    "   }\n",
    "}\n",
    "```"
   ]
  },
  {
   "cell_type": "code",
   "execution_count": 17,
   "metadata": {},
   "outputs": [],
   "source": [
    "import java.util.*;\n",
    "\n",
    "/**\n",
    " * This program demonstrates a <code>while</code> loop.\n",
    " * @version 1.20 2004-02-10\n",
    " * @author Cay Horstmann\n",
    " */"
   ]
  },
  {
   "cell_type": "code",
   "execution_count": 16,
   "metadata": {},
   "outputs": [
    {
     "name": "stdout",
     "output_type": "stream",
     "text": [
      "How much money do you need to retire? "
     ]
    },
    {
     "name": "stdin",
     "output_type": "stream",
     "text": [
      " 123\n"
     ]
    },
    {
     "name": "stdout",
     "output_type": "stream",
     "text": [
      "How much money will you contribute every year? "
     ]
    },
    {
     "name": "stdin",
     "output_type": "stream",
     "text": [
      " 12\n"
     ]
    },
    {
     "name": "stdout",
     "output_type": "stream",
     "text": [
      "Interest rate in %: "
     ]
    },
    {
     "name": "stdin",
     "output_type": "stream",
     "text": [
      " 10\n"
     ]
    },
    {
     "name": "stdout",
     "output_type": "stream",
     "text": [
      "You can retire in 7 years.\n"
     ]
    }
   ],
   "source": [
    "\n",
    "      // read inputs\n",
    "      Scanner in = new Scanner(System.in);\n",
    "\n",
    "      System.out.print(\"How much money do you need to retire? \");\n",
    "      double goal = in.nextDouble();\n",
    "\n",
    "      System.out.print(\"How much money will you contribute every year? \");\n",
    "      double payment = in.nextDouble();\n",
    "\n",
    "      System.out.print(\"Interest rate in %: \");\n",
    "      double interestRate = in.nextDouble();\n",
    "\n",
    "      double balance = 0;\n",
    "      int years = 0;\n",
    "\n",
    "      // update account balance while goal isn't reached\n",
    "      while (balance < goal)\n",
    "      {\n",
    "         // add this year's payment and interest\n",
    "         balance += payment;\n",
    "         double interest = balance * interestRate / 100;\n",
    "         balance += interest;\n",
    "         years++;\n",
    "      }\n",
    "\n",
    "      System.out.println(\"You can retire in \" + years + \" years.\");\n"
   ]
  },
  {
   "cell_type": "markdown",
   "metadata": {},
   "source": [
    "### 3.4 Retirement2\n",
    "```java\n",
    "\n",
    "import java.util.*;\n",
    "\n",
    "/**\n",
    " * This program demonstrates a <code>do/while</code> loop.\n",
    " * @version 1.20 2004-02-10\n",
    " * @author Cay Horstmann\n",
    " */\n",
    "public class Retirement2\n",
    "{\n",
    "   public static void main(String[] args)\n",
    "   {\n",
    "      Scanner in = new Scanner(System.in);\n",
    "\n",
    "      System.out.print(\"How much money will you contribute every year? \");\n",
    "      double payment = in.nextDouble();\n",
    "\n",
    "      System.out.print(\"Interest rate in %: \");\n",
    "      double interestRate = in.nextDouble();\n",
    "\n",
    "      double balance = 0;\n",
    "      int year = 0;\n",
    "\n",
    "      String input;\n",
    "\n",
    "      // update account balance while user isn't ready to retire\n",
    "      do\n",
    "      {\n",
    "         // add this year's payment and interest\n",
    "         balance += payment;\n",
    "         double interest = balance * interestRate / 100;\n",
    "         balance += interest;\n",
    "\n",
    "         year++;\n",
    "\n",
    "         // print current balance\n",
    "         System.out.printf(\"After year %d, your balance is %,.2f%n\", year, balance);\n",
    "\n",
    "         // ask if ready to retire and get input\n",
    "         System.out.print(\"Ready to retire? (Y/N) \");\n",
    "         input = in.next();\n",
    "      }\n",
    "      while (input.equals(\"N\"));\n",
    "   }\n",
    "}\n",
    "```\n"
   ]
  },
  {
   "cell_type": "code",
   "execution_count": null,
   "metadata": {},
   "outputs": [],
   "source": [
    "import java.util.*;\n",
    "\n",
    "/**\n",
    " * This program demonstrates a <code>do/while</code> loop.\n",
    " * @version 1.20 2004-02-10\n",
    " * @author Cay Horstmann\n",
    " */"
   ]
  },
  {
   "cell_type": "code",
   "execution_count": 20,
   "metadata": {},
   "outputs": [
    {
     "name": "stdout",
     "output_type": "stream",
     "text": [
      "How much money will you contribute every year? "
     ]
    },
    {
     "name": "stdin",
     "output_type": "stream",
     "text": [
      " 100\n"
     ]
    },
    {
     "name": "stdout",
     "output_type": "stream",
     "text": [
      "Interest rate in %: "
     ]
    },
    {
     "name": "stdin",
     "output_type": "stream",
     "text": [
      " 1000\n"
     ]
    },
    {
     "name": "stdout",
     "output_type": "stream",
     "text": [
      "After year 1, your balance is 1,100.00\n",
      "Ready to retire? (Y/N) "
     ]
    },
    {
     "name": "stdin",
     "output_type": "stream",
     "text": [
      " N\n"
     ]
    },
    {
     "name": "stdout",
     "output_type": "stream",
     "text": [
      "After year 2, your balance is 13,200.00\n",
      "Ready to retire? (Y/N) "
     ]
    },
    {
     "name": "stdin",
     "output_type": "stream",
     "text": [
      " N\n"
     ]
    },
    {
     "name": "stdout",
     "output_type": "stream",
     "text": [
      "After year 3, your balance is 146,300.00\n",
      "Ready to retire? (Y/N) "
     ]
    },
    {
     "name": "stdin",
     "output_type": "stream",
     "text": [
      " N\n"
     ]
    },
    {
     "name": "stdout",
     "output_type": "stream",
     "text": [
      "After year 4, your balance is 1,610,400.00\n",
      "Ready to retire? (Y/N) "
     ]
    },
    {
     "name": "stdin",
     "output_type": "stream",
     "text": [
      " Y\n"
     ]
    }
   ],
   "source": [
    "\n",
    "      Scanner in = new Scanner(System.in);\n",
    "\n",
    "      System.out.print(\"How much money will you contribute every year? \");\n",
    "      double payment = in.nextDouble();\n",
    "\n",
    "      System.out.print(\"Interest rate in %: \");\n",
    "      double interestRate = in.nextDouble();\n",
    "\n",
    "      double balance = 0;\n",
    "      int year = 0;\n",
    "\n",
    "      String input;\n",
    "\n",
    "      // update account balance while user isn't ready to retire\n",
    "      do\n",
    "      {\n",
    "         // add this year's payment and interest\n",
    "         balance += payment;\n",
    "         double interest = balance * interestRate / 100;\n",
    "         balance += interest;\n",
    "\n",
    "         year++;\n",
    "\n",
    "         // print current balance\n",
    "         System.out.printf(\"After year %d, your balance is %,.2f%n\", year, balance);\n",
    "\n",
    "         // ask if ready to retire and get input\n",
    "         System.out.print(\"Ready to retire? (Y/N) \");\n",
    "         input = in.next();\n",
    "      }\n",
    "      while (input.equals(\"N\"));\n"
   ]
  }
 ],
 "metadata": {
  "kernelspec": {
   "display_name": "Java",
   "language": "java",
   "name": "java"
  },
  "language_info": {
   "codemirror_mode": "java",
   "file_extension": ".jshell",
   "mimetype": "text/x-java-source",
   "name": "Java",
   "pygments_lexer": "java",
   "version": "11.0.3+12-LTS"
  }
 },
 "nbformat": 4,
 "nbformat_minor": 2
}
